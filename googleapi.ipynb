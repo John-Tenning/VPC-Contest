{
  "nbformat": 4,
  "nbformat_minor": 0,
  "metadata": {
    "colab": {
      "name": "googleapi.ipynb",
      "provenance": []
    },
    "kernelspec": {
      "name": "python3",
      "display_name": "Python 3"
    },
    "language_info": {
      "name": "python"
    }
  },
  "cells": [
    {
      "cell_type": "code",
      "metadata": {
        "colab": {
          "base_uri": "https://localhost:8080/"
        },
        "id": "tTNTaTZRyjjn",
        "outputId": "9675c69f-3761-4169-948c-5ca92105a3f3"
      },
      "source": [
        "pip install deep_translator"
      ],
      "execution_count": 1,
      "outputs": [
        {
          "output_type": "stream",
          "text": [
            "Collecting deep_translator\n",
            "  Downloading deep_translator-1.5.0-py2.py3-none-any.whl (29 kB)\n",
            "Requirement already satisfied: beautifulsoup4 in /usr/local/lib/python3.7/dist-packages (from deep_translator) (4.6.3)\n",
            "Requirement already satisfied: requests in /usr/local/lib/python3.7/dist-packages (from deep_translator) (2.23.0)\n",
            "Requirement already satisfied: click in /usr/local/lib/python3.7/dist-packages (from deep_translator) (7.1.2)\n",
            "Requirement already satisfied: chardet<4,>=3.0.2 in /usr/local/lib/python3.7/dist-packages (from requests->deep_translator) (3.0.4)\n",
            "Requirement already satisfied: idna<3,>=2.5 in /usr/local/lib/python3.7/dist-packages (from requests->deep_translator) (2.10)\n",
            "Requirement already satisfied: urllib3!=1.25.0,!=1.25.1,<1.26,>=1.21.1 in /usr/local/lib/python3.7/dist-packages (from requests->deep_translator) (1.24.3)\n",
            "Requirement already satisfied: certifi>=2017.4.17 in /usr/local/lib/python3.7/dist-packages (from requests->deep_translator) (2021.5.30)\n",
            "Installing collected packages: deep-translator\n",
            "Successfully installed deep-translator-1.5.0\n"
          ],
          "name": "stdout"
        }
      ]
    },
    {
      "cell_type": "code",
      "metadata": {
        "id": "Cmh13POHy0PJ"
      },
      "source": [
        "from deep_translator import GoogleTranslator"
      ],
      "execution_count": 2,
      "outputs": []
    },
    {
      "cell_type": "code",
      "metadata": {
        "id": "V2vVShiBy-2H"
      },
      "source": [
        "for ind in range(22,32):\n",
        "  tamil_open = open(f\"/content/tamil_files/{ind} - tam.txt\",'r')\n",
        "\n",
        "  t_read = tamil_open.readlines()\n",
        "  ta_sent=[]\n",
        "  for i in range(len(t_read)):\n",
        "    if t_read[i]!='\\n':\n",
        "      ta_sent.append(t_read[i].rstrip(\"\\n\"))\n",
        "      \n",
        "  max_len_split=[]\n",
        "  translate=[]\n",
        "  if (len(ta_sent)<=5000):\n",
        "    for i in range(len(ta_sent)):\n",
        "      k=ta_sent[i]\n",
        "      translate.append(GoogleTranslator(source='tamil', target='en').translate(k))\n",
        "  else:\n",
        "    for i in range(5000):\n",
        "      k=ta_sent[i]\n",
        "      translate.append(GoogleTranslator(source='tamil', target='en').translate(k))\n",
        "    for j in range(5000,len(ta_sent)):\n",
        "       k=ta_sent[j]\n",
        "       translate.append(GoogleTranslator(source='tamil', target='en').translate(k))\n",
        "    \n",
        "\n",
        "#create a folder called translate\n",
        "\n",
        "  write_file = open(f\"/content/translate/{ind} - translate.txt\",'w')\n",
        "\n",
        "  for i in translate:\n",
        "    write_file.writelines(i)\n",
        "    write_file.write('\\n\\n')"
      ],
      "execution_count": 5,
      "outputs": []
    }
  ]
}